{
 "cells": [
  {
   "cell_type": "code",
   "execution_count": 1,
   "id": "4fca5ec8",
   "metadata": {},
   "outputs": [
    {
     "name": "stdout",
     "output_type": "stream",
     "text": [
      "Jupyter environment detected. Enabling Open3D WebVisualizer.\n",
      "[Open3D INFO] WebRTC GUI backend enabled.\n",
      "[Open3D INFO] WebRTCWindowSystem: HTTP handshake server disabled.\n"
     ]
    }
   ],
   "source": [
    "from Mesh import Mesh\n",
    "import torch.nn.functional as tnn\n",
    "import torch\n",
    "use_cuda = 0\n",
    "torchdeviceId = torch.device('cuda:0') if use_cuda else 'cpu'\n",
    "torchdtype = torch.float64\n",
    "import time \n",
    "import os\n",
    "os.environ['KMP_DUPLICATE_LIB_OK']='TRUE'"
   ]
  },
  {
   "cell_type": "code",
   "execution_count": 2,
   "id": "17364763",
   "metadata": {},
   "outputs": [],
   "source": [
    "M=Mesh(None,None,\"data/icos.ply\")"
   ]
  },
  {
   "cell_type": "code",
   "execution_count": 3,
   "id": "d4b3ceb2",
   "metadata": {},
   "outputs": [
    {
     "name": "stdout",
     "output_type": "stream",
     "text": [
      "(12, 4)\n"
     ]
    }
   ],
   "source": [
    "\n",
    "mu1=torch.exp(-5*((M.V - torch.as_tensor([0.0,1.0,0.0]))**2).sum(dim=1))\n",
    "mu1=M.normalize(mu1)\n",
    "mu2=torch.exp(-5*((M.V - torch.as_tensor([0.0,0.0,-1.0]))**2).sum(dim=1))\n",
    "mu2=M.normalize(mu2)\n",
    "M.plot_pair(mu1,mu2)"
   ]
  },
  {
   "cell_type": "code",
   "execution_count": 4,
   "id": "7433c529",
   "metadata": {},
   "outputs": [],
   "source": [
    "T=12\n",
    "match_coeff=1e6\n",
    "path_coeff=1\n"
   ]
  },
  {
   "cell_type": "code",
   "execution_count": 5,
   "id": "30146f3c",
   "metadata": {},
   "outputs": [],
   "source": [
    "def L(out):\n",
    "    out=torch.unsqueeze(out,0)\n",
    "    weight = torch.Tensor([[[[10,10,10],[10,0,10],[10,10,10]]]]).to(dtype=torchdtype, device=torchdeviceId)\n",
    "    out = tnn.conv2d(out,weight.repeat(2,1,1,1), padding='same',groups=2)\n",
    "    #out = tnn.conv2d(out,weight.repeat(2,1,1,1), padding='same',groups=2)\n",
    "    #out = tnn.conv2d(out,weight.repeat(2,1,1,1), padding='same',groups=2)\n",
    "    return out[0]"
   ]
  },
  {
   "cell_type": "code",
   "execution_count": 6,
   "id": "b214e033",
   "metadata": {},
   "outputs": [],
   "source": [
    "start =time.time()\n",
    "vecs,ps = M.OT(mu1.flatten(),mu2.flatten(),T,match_coeff,path_coeff,max_iter=1000)\n",
    "pl_pathlength = M.path_length(mu1.flatten(),vecs)\n",
    "N=vecs.shape[0]"
   ]
  },
  {
   "cell_type": "code",
   "execution_count": 7,
   "id": "bef358cb",
   "metadata": {},
   "outputs": [
    {
     "name": "stdout",
     "output_type": "stream",
     "text": [
      "[Open3D WARNING] GLFW Error: WGL: Failed to make context current: The handle is invalid. \n"
     ]
    }
   ],
   "source": [
    "M.plot_sequence(ps,vecs)"
   ]
  },
  {
   "cell_type": "code",
   "execution_count": 8,
   "id": "1bb78adf",
   "metadata": {},
   "outputs": [
    {
     "name": "stdout",
     "output_type": "stream",
     "text": [
      "tensor(0.2620, dtype=torch.float64)\n",
      "tensor([0.0249, 0.0216, 0.0195, 0.0190, 0.0207, 0.0230, 0.0247, 0.0258, 0.0265,\n",
      "        0.0277, 0.0286], dtype=torch.float64)\n"
     ]
    }
   ],
   "source": [
    "print(pl_pathlength.sum())\n",
    "print(pl_pathlength)"
   ]
  },
  {
   "cell_type": "code",
   "execution_count": null,
   "id": "bcb82a9a",
   "metadata": {},
   "outputs": [],
   "source": []
  },
  {
   "cell_type": "code",
   "execution_count": null,
   "id": "44dcbc35",
   "metadata": {},
   "outputs": [],
   "source": []
  }
 ],
 "metadata": {
  "kernelspec": {
   "display_name": "Python 3 (ipykernel)",
   "language": "python",
   "name": "python3"
  },
  "language_info": {
   "codemirror_mode": {
    "name": "ipython",
    "version": 3
   },
   "file_extension": ".py",
   "mimetype": "text/x-python",
   "name": "python",
   "nbconvert_exporter": "python",
   "pygments_lexer": "ipython3",
   "version": "3.9.12"
  }
 },
 "nbformat": 4,
 "nbformat_minor": 5
}
