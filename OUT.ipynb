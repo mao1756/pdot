{
 "cells": [
  {
   "cell_type": "code",
   "execution_count": 1,
   "id": "4fca5ec8",
   "metadata": {},
   "outputs": [],
   "source": [
    "from DiffeoOUT import *\n",
    "from utils import *\n",
    "import torch\n",
    "import time \n",
    "import os\n",
    "os.environ['KMP_DUPLICATE_LIB_OK']='TRUE'"
   ]
  },
  {
   "cell_type": "code",
   "execution_count": 2,
   "id": "17364763",
   "metadata": {},
   "outputs": [],
   "source": [
    "m=32\n",
    "\n",
    "x = torch.linspace(-1,1,m)\n",
    "y = torch.linspace(-1,1,m)\n",
    "grid = torch.zeros((1,m,m,2)).to(dtype=torchdtype, device=torchdeviceId)\n",
    "for i in range(0,m):\n",
    "        for j in range(0,m):\n",
    "            grid[0,i,j,0]= x[i]\n",
    "            grid[0,i,j,1]= y[j]"
   ]
  },
  {
   "cell_type": "code",
   "execution_count": 3,
   "id": "d2f0088e",
   "metadata": {},
   "outputs": [
    {
     "name": "stderr",
     "output_type": "stream",
     "text": [
      "C:\\ProgramData\\Anaconda3\\lib\\site-packages\\torch\\nn\\functional.py:4003: UserWarning: Default grid_sample and affine_grid behavior has changed to align_corners=False since 1.3.0. Please specify align_corners=True if the old behavior is desired. See the documentation of grid_sample for details.\n",
      "  warnings.warn(\n"
     ]
    },
    {
     "data": {
      "image/png": "[encoded data removed]",
      "text/plain": [
       "<Figure size 1440x720 with 2 Axes>"
      ]
     },
     "metadata": {
      "needs_background": "light"
     },
     "output_type": "display_data"
    }
   ],
   "source": [
    "mu_2 = load_dist(\"cmndr.png\",grid)*2\n",
    "G1=torch.Tensor([[2,0],[0,2]]).to(dtype=torchdtype, device=torchdeviceId)\n",
    "mu_1 = gaussian(0,0,G1,grid)\n",
    "plot_pair(mu_1,mu_2)"
   ]
  },
  {
   "cell_type": "code",
   "execution_count": 4,
   "id": "7433c529",
   "metadata": {},
   "outputs": [],
   "source": [
    "params=[]\n",
    "params+=[{'T':6, 'match_coeff':1000, 'path_coeff':1}]\n",
    "delta=10"
   ]
  },
  {
   "cell_type": "code",
   "execution_count": 5,
   "id": "30146f3c",
   "metadata": {},
   "outputs": [],
   "source": [
    "#def L(vf):\n",
    "#    weight = torch.Tensor([[[[-1,-1,-1],[-1,8,-1],[-1,-1,-1]]]]).to(dtype=torchdtype, device=torchdeviceId)\n",
    "#    out = tnn.conv2d(vf, weight.repeat(2,1,1,1), bias=None,groups=2, stride=1, padding='same') \n",
    "#    out = tnn.conv2d(out, weight.repeat(2,1,1,1), bias=None,groups=2, stride=1, padding='same') \n",
    "#    out = tnn.conv2d(out, weight.repeat(2,1,1,1), bias=None,groups=2, stride=1, padding='same') \n",
    "#    return out"
   ]
  },
  {
   "cell_type": "code",
   "execution_count": 6,
   "id": "617b932c",
   "metadata": {},
   "outputs": [],
   "source": [
    "def inner_prod(X,source,p,grid):\n",
    "    pm=p[0,0]\n",
    "    pX= pm*X.transpose(0,2)\n",
    "    return ((pX**2).sum(dim=0)/(pm)).sum()  "
   ]
  },
  {
   "cell_type": "code",
   "execution_count": null,
   "id": "b214e033",
   "metadata": {},
   "outputs": [],
   "source": [
    "start =time.time()\n",
    "vecs,funs = DiffeoOUT_multires(mu_1,mu_2,grid,params,inner_prod,delta)\n",
    "print(time.time()-start)\n",
    "pl_pathlength = path_length(mu_1,vecs,funs,grid,inner_prod,delta)\n",
    "print(pl_pathlength)\n",
    "N=vecs.shape[0]"
   ]
  },
  {
   "cell_type": "code",
   "execution_count": null,
   "id": "5752316b",
   "metadata": {
    "scrolled": false
   },
   "outputs": [],
   "source": [
    "ls = make_and_plot_sequence_u(mu_1,mu_2,vecs,funs, grid)\n",
    "save_gif(mu_1,mu_2,ls)"
   ]
  },
  {
   "cell_type": "code",
   "execution_count": null,
   "id": "b802aa30",
   "metadata": {},
   "outputs": [],
   "source": []
  },
  {
   "cell_type": "code",
   "execution_count": null,
   "id": "c5b5901a",
   "metadata": {},
   "outputs": [],
   "source": []
  }
 ],
 "metadata": {
  "kernelspec": {
   "display_name": "Python 3",
   "language": "python",
   "name": "python3"
  },
  "language_info": {
   "codemirror_mode": {
    "name": "ipython",
    "version": 3
   },
   "file_extension": ".py",
   "mimetype": "text/x-python",
   "name": "python",
   "nbconvert_exporter": "python",
   "pygments_lexer": "ipython3",
   "version": "3.9.12"
  }
 },
 "nbformat": 4,
 "nbformat_minor": 5
}
