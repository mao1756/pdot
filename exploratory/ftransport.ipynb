{
 "cells": [
  {
   "cell_type": "markdown",
   "metadata": {},
   "source": [
    "# Transport Equation Solver with Fourier Transform\n",
    "\n",
    "In this notebook, we implement the numerical solver of the 1D transport equation\n",
    "$\\begin{equation}\\frac{\\partial \\rho}{\\partial t} + \\frac{\\partial (\\rho v)}{\\partial x} = 0 \\end{equation} \\tag*{}$\n",
    " on $(t,x)\\in [0,1]\\times [0,L]$ for a given $v:[0,1]\\times [0,L]\\to \\mathbb{R} $ using the discrete Fourier transform. In addition, we implement the calculation of the Wasserstein energy consistent with this method. This notebook is available at https://github.com/mao1756/pdot."
   ]
  },
  {
   "cell_type": "code",
   "execution_count": 11,
   "metadata": {},
   "outputs": [],
   "source": [
    "# Import relevant libraries\n",
    "\n",
    "import numpy as np\n",
    "import matplotlib.pyplot as plt\n",
    "\n",
    "# Define Constant(s)\n",
    "L = 1 # The length of the space\n",
    "N0 = 5 # The number of time steps\n",
    "N1 = 5 # The number of space steps"
   ]
  },
  {
   "cell_type": "markdown",
   "metadata": {},
   "source": [
    "## The Staggered Grids\n",
    "For the discretization of the time-space rectangle $[0,1]\\times [0,L]$, we use the staggered grid, which is known to be more stable for fluid dynamical calculations. Let $N_0$ be the number of time steps and $N_1$ be the number of space steps. We introduce the **time staggered grid**\n",
    "$\\begin{equation} \\mathcal{G}_s^t = \\left\\{\\left(\\frac{i_0}{N_0}, L\\frac{i_1+1/2}{N_1}\\right)\\middle| i_0= 0,\\cdots ,N_0, i_1 = 0,\\cdots N_1-1 \\right\\}\\end{equation} \\tag*{}$ \n",
    ", the **space staggered grid**\n",
    "$\\begin{equation} \\mathcal{G}_s^x = \\left\\{\\left(\\frac{i_0+1/2}{N_0}, L\\frac{i_1}{N_1}\\right)\\middle| i_0= 0,\\cdots ,N_0-1, i_1 = 0,\\cdots N_1 \\right\\}\\end{equation} \\tag*{}$ \n",
    ", and **the centered grid**\n",
    "$\\begin{equation} \\mathcal{G}_c = \\left\\{\\left(\\frac{i_0+1/2}{N_0}, L\\frac{i_1+1/2}{N_1}\\right)\\middle| i_0= 0,\\cdots ,N_0-1, i_1 = 0,\\cdots N_1-1 \\right\\}.\\end{equation} \\tag*{}$"
   ]
  },
  {
   "cell_type": "code",
   "execution_count": 14,
   "metadata": {},
   "outputs": [],
   "source": [
    "# Define the time staggered trid\n",
    "i0 = np.arange(0, N0+1)\n",
    "i1 = np.arange(0, N1)\n",
    "Gst = np.array([[(i/N0, L*(j+0.5)/N1) for i in i0] for j in i1])\n",
    "# the space staggered grid\n",
    "i0 = np.arange(0, N0)\n",
    "i1 = np.arange(0, N1+1)\n",
    "Gsx = np.array([[((i+0.5)/N0, L*j/N1) for i in i0] for j in i1])\n",
    "# the centered grid\n",
    "i0 = np.arange(0, N0)\n",
    "i1 = np.arange(0, N1)\n",
    "Gc = np.array([[((i+0.5)/N0, L*(j+0.5)/N1) for i in i0] for j in i1])"
   ]
  },
  {
   "cell_type": "markdown",
   "metadata": {},
   "source": [
    "# Functions\n",
    "We define the following:\n",
    "- $\\rho^{st}$: The discretized mass on the time staggered grid\n",
    "- $v^{sx}$: The discretized velocity field on the space staggered grid\n",
    "- $\\rho^{c}$ : The discretized mass on the centered grid\n",
    "- $v^{c}$ : The discretized mass on the centered grid \n"
   ]
  },
  {
   "cell_type": "markdown",
   "metadata": {},
   "source": []
  }
 ],
 "metadata": {
  "kernelspec": {
   "display_name": "Python 3",
   "language": "python",
   "name": "python3"
  },
  "language_info": {
   "codemirror_mode": {
    "name": "ipython",
    "version": 3
   },
   "file_extension": ".py",
   "mimetype": "text/x-python",
   "name": "python",
   "nbconvert_exporter": "python",
   "pygments_lexer": "ipython3",
   "version": "3.8.10"
  }
 },
 "nbformat": 4,
 "nbformat_minor": 2
}
