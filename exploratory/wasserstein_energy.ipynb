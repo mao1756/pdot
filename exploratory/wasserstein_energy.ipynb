{
  "cells": [
    {
      "cell_type": "code",
      "source": [
        "!pip install diffrax\n",
        "!pip install jaxtyping"
      ],
      "metadata": {
        "id": "PNdI3I5DvJmJ"
      },
      "execution_count": null,
      "outputs": []
    },
    {
      "cell_type": "markdown",
      "metadata": {
        "id": "YECRY1aZuBUy"
      },
      "source": [
        "# Calculation of the WFR Energy"
      ]
    },
    {
      "cell_type": "code",
      "source": [
        "# Import Relevant Libraries\n",
        "import jax.numpy as jnp\n",
        "import jax.scipy as jsp\n",
        "from diffrax import diffeqsolve, ODETerm, Dopri5\n",
        "from jaxtyping import Float, Integer, Array\n",
        "\n",
        "def wfr_energy(\n",
        "    var: Float[Array, \"...\"],\n",
        "    p0: Float[Array, \"...\"],\n",
        "    relax_const: Float\n",
        "):\n",
        "  \"\"\" Solves the continuity equation and calculates the WFR energy+relaxation\n",
        "   term.\n",
        "  Args:\n",
        "    var (Array of size 2(N_0+N_1+...+N_D)) : The flattened vector field and\n",
        "    the flattened source term connected together. The first N_0+N_1+...+N_D\n",
        "    corresponds to the vector field and the second corresponds to the source\n",
        "    term.\n",
        "    p0 (Array of size (N_0, ..., N_D)): the initial distribution.\n",
        "    relax_const: a constant multiplied to\n",
        "  Returns:\n",
        "    energy: the wasserstein-fisher-rao energy of the solution of the\n",
        "    continutiy equation + the relaxation term.\n",
        "  \"\"\"\n",
        "\n",
        "\n",
        "\n",
        "  # Reconstruct the vector field and the source term\n",
        "  v = var[]\n"
      ],
      "metadata": {
        "id": "T_rIkzG3uHVY",
        "outputId": "12308e73-e356-4808-e3be-c87e9c32f5a3",
        "colab": {
          "base_uri": "https://localhost:8080/"
        }
      },
      "execution_count": 13,
      "outputs": [
        {
          "output_type": "stream",
          "name": "stdout",
          "text": [
            "[1.]\n",
            "[[[0.7357589  1.1036384 ]\n",
            "  [0.36787945 1.1036384 ]]]\n"
          ]
        }
      ]
    }
  ],
  "metadata": {
    "language_info": {
      "name": "python"
    },
    "colab": {
      "provenance": [],
      "gpuType": "T4"
    },
    "kernelspec": {
      "name": "python3",
      "display_name": "Python 3"
    },
    "accelerator": "GPU"
  },
  "nbformat": 4,
  "nbformat_minor": 0
}