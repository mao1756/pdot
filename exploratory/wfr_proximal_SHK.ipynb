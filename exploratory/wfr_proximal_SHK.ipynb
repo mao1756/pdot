{
 "cells": [
  {
   "cell_type": "markdown",
   "metadata": {},
   "source": [
    "# Comparison between the mass-conservation constraint and the SHK geodesic"
   ]
  },
  {
   "cell_type": "markdown",
   "metadata": {},
   "source": [
    "In [Lachos & Mielke (2018)](https://arxiv.org/pdf/1712.01888), it has been proved that the Wasserstein-Fisher-Rao distance can be seen as a cone of the space of probability measures with so-called the **spherical Hellinger-Kantrovich (SHK) distance**. \n",
    "\n",
    "We have seen (at least formally) that the SHK space is actually equivalent to the WFR space with the constraint that the total mass is always $1$. Moreover, Lachos & Mielke provides a formula to calculate a geodesic on the SHK space from a geodesic on the unconstrained WFR space. \n",
    "\n",
    "In this notebook, we will compare the projected geodesic and the geodesic calculated by our constrained algorithm.\n"
   ]
  },
  {
   "cell_type": "code",
   "execution_count": 7,
   "metadata": {},
   "outputs": [],
   "source": [
    "# Import relevant libraries\n",
    "\n",
    "import math\n",
    "import numpy as np\n",
    "import matplotlib.pyplot as plt\n",
    "import sys\n",
    "sys.path.append('..')\n",
    "from proximal.grids import speed_and_growth\n",
    "from proximal.dynamicUOT import computeGeodesic\n",
    "import ipywidgets as widgets\n",
    "from ipywidgets import interact"
   ]
  },
  {
   "cell_type": "markdown",
   "metadata": {},
   "source": [
    "# The theory\n",
    "\n",
    "## Conversion of the distance WFR -> SHK\n",
    "We will consider the WFR distance with $\\delta=1$:\n",
    "$\\begin{equation}\\textrm{WFR}(\\rho_0,\\rho_1)^2 = \\textrm{inf}\\left\\{\\int_{0}^{1}\\int_{\\Omega} \\frac{\\|\\omega\\|^2 +\\zeta^2}{2\\rho}dxdt\\middle|\\partial_t \\rho + \\nabla\\cdot \\omega = \\zeta, \\rho(0)=\\rho_0, \\rho(1)=\\rho_1\\right\\}\\end{equation}$\n",
    "\n",
    "The Hellinger-Kantrovich distance (Liero et al. 2015) has a slightly different definition, and the above expression is equal to $\\frac{1}{2}\\textrm{HK}_{1,1}(\\rho_0,\\rho_1)^2$. That is, we have \n",
    "\n",
    "$\\begin{equation} \\textrm{HK}_{1,1}(\\rho_0,\\rho_1) = \\sqrt{2}\\textrm{WFR}(\\rho_0,\\rho_1)\\end{equation}$\n",
    "\n",
    "Substituting this to the equation from Lachos & Mielke that connects HK & SHK, we have\n",
    "\n",
    "$\\begin{equation} \\textrm{SHK}(\\nu_0, \\nu_1) = \\textrm{arccos}\\left(1 - \\frac{\\textrm{WFR}^2(\\nu_0,\\nu_1)}{4}\\right)\\end{equation}$"
   ]
  },
  {
   "cell_type": "markdown",
   "metadata": {},
   "source": [
    "The following code implements this conversion."
   ]
  },
  {
   "cell_type": "code",
   "execution_count": 8,
   "metadata": {},
   "outputs": [],
   "source": [
    "def WFR_to_SHK(WFR):\n",
    "    \"\"\" Convert WFR to SHK\n",
    "    WFR: float, WFR value\n",
    "    return: float, SHK value\"\"\"\n",
    "    return math.acos(1-WFR**2/4)"
   ]
  },
  {
   "cell_type": "markdown",
   "metadata": {},
   "source": [
    "## Conversion of a geodesic WFR -> SHK\n",
    "Lachos & Mielke proved that, given a geodesic in the WFR space, we can project it to the SHK to obtain a geodeseic there. if $\\rho$ is a geodesic in the WFR space between $\\rho_0,\\rho_1$, Theorem 2.7 from Lachos & Mielke shows that $\\rho(\\beta(t))/r(t)$ is a geodesic between $\\bar{\\rho}_0=\\rho_0/r_0$ and $\\bar{\\rho}_1 = \\rho_1/r_1, r_0=\\rho_0(\\Omega),r_1=\\rho_1(\\Omega)$ where\n",
    "\n",
    "$\\begin{align} \\beta(t) &= \\frac{r_0 \\sin \\left( t \\textrm{SHK} (\\bar{\\rho}_0, \\bar{\\rho}_1) \\right)}{r_1 \\sin \\left( (1-t) \\textrm{SHK} (\\bar{\\rho}_0, \\bar{\\rho}_1) \\right) + r_0 \\sin \\left( t \\textrm{SHK} (\\bar{\\rho}_0, \\bar{\\rho}_1)\\right)} \\\\ r(t) &=  \n",
    "\\frac{r_0 r_1 \\sin \\left( \\textrm{SHK} (\\bar{\\rho}_0, \\bar{\\rho}_1) \\right)}\n",
    "{r_1 \\sin \\left( (1-t) \\textrm{SHK} (\\bar{\\rho}_0, \\bar{\\rho}_1) \\right) + r_0 \\sin \\left( t \\textrm{SHK} (\\bar{\\rho}_0, \\bar{\\rho}_1) \\right)}. \\end{align}$\n"
   ]
  },
  {
   "cell_type": "markdown",
   "metadata": {},
   "source": [
    "The following implements $\\beta$ & $r$."
   ]
  },
  {
   "cell_type": "code",
   "execution_count": 9,
   "metadata": {},
   "outputs": [],
   "source": [
    "def beta(t, SHK, r0, r1):\n",
    "    \"\"\"\n",
    "    Computes the value of β(t) based on the formula.\n",
    "\n",
    "    Parameters:\n",
    "    - t (float or np.ndarray): Parameter(s) between 0 and 1.\n",
    "    - SHK (float): The SHK value.\n",
    "    - r0 (float): Radius parameter r0.\n",
    "    - r1 (float): Radius parameter r1.\n",
    "\n",
    "    Returns:\n",
    "    - float or np.ndarray: The computed value(s) of β(t).\n",
    "    \"\"\"\n",
    "    t = np.asarray(t)  # Ensure t is a NumPy array\n",
    "    numerator = r0 * np.sin(t * SHK)\n",
    "    denominator = r1 * np.sin((1 - t) * SHK) + r0 * np.sin(t * SHK)\n",
    "    \n",
    "    # Check for zero denominators\n",
    "    if np.any(denominator == 0):\n",
    "        raise ValueError(\"Denominator in beta(t) calculation is zero for at least one element in t.\")\n",
    "    \n",
    "    return numerator / denominator\n",
    "\n",
    "def r(t, SHK, r0, r1):\n",
    "    \"\"\"\n",
    "    Computes the value of r(t) based on the formula.\n",
    "\n",
    "    Parameters:\n",
    "    - t (float or np.ndarray): Parameter(s) between 0 and 1.\n",
    "    - SHK (float): The SHK value.\n",
    "    - r0 (float): Radius parameter r0.\n",
    "    - r1 (float): Radius parameter r1.\n",
    "\n",
    "    Returns:\n",
    "    - float or np.ndarray: The computed value(s) of r(t).\n",
    "    \"\"\"\n",
    "    t = np.asarray(t)  # Ensure t is a NumPy array\n",
    "    numerator = r0 * r1 * np.sin(SHK)\n",
    "    denominator = r1 * np.sin((1 - t) * SHK) + r0 * np.sin(t * SHK)\n",
    "    \n",
    "    # Check for zero denominators\n",
    "    if np.any(denominator == 0):\n",
    "        raise ValueError(\"Denominator in r(t) calculation is zero for at least one element in t.\")\n",
    "    \n",
    "    return numerator / denominator"
   ]
  },
  {
   "cell_type": "markdown",
   "metadata": {},
   "source": [
    "Now, suppose we calculated an unconstrained geodesic $\\rho$, and we want to project it to the SHK space. The biggest challange is to find the reparametrization $\\rho(\\beta(t))$ since $\\beta(t)$ is most likely not on our discretized grid. To find the values at such $t$, we simply consider a linear interpolation.\n",
    "\n",
    "For more accurate interpolation, we can solve the constrained WFR problem such that $\\rho_t(\\Omega) = r(t)$, but we will not take this approach as the objective here is to compare the constrained WFR algorithm with the theoretical result."
   ]
  },
  {
   "cell_type": "code",
   "execution_count": 46,
   "metadata": {},
   "outputs": [],
   "source": [
    "def reparametrize_mass_distributions(mass_distributions, SHK, r0, r1, cs, ll):\n",
    "    \"\"\"\n",
    "    Reparametrize the mass distributions according to the beta(t) function.\n",
    "\n",
    "    Parameters:\n",
    "    - mass_distributions (np.ndarray): Array of shape (time_dim, *space_dims)\n",
    "    - SHK (float): SHK parameter for beta(t)\n",
    "    - r0 (float): r0 parameter for beta(t)\n",
    "    - r1 (float): r1 parameter for beta(t)\n",
    "    - cs (tuple): the size of the spatial grid\n",
    "    - ll (tuple): the length of the spatial domain\n",
    "\n",
    "    Returns:\n",
    "    - np.ndarray: Reparametrized mass distributions of the same shape.\n",
    "    \"\"\"\n",
    "    time_dim = mass_distributions.shape[0]\n",
    "    T = time_dim - 1\n",
    "\n",
    "    # Original time grid\n",
    "    t = np.linspace(0, 1, time_dim)  # t_i = i / T\n",
    "\n",
    "    # Compute beta(t_i)\n",
    "    beta_t = beta(t, SHK, r0, r1)\n",
    "\n",
    "    # Ensure beta_t is within [0, 1]\n",
    "    beta_t = np.clip(beta_t, 0, 1)\n",
    "\n",
    "    # Scale beta_t to index space and find lower indices\n",
    "    beta_scaled = beta_t * T\n",
    "    k = np.floor(beta_scaled).astype(int)\n",
    "    k = np.clip(k, 0, T - 1)  # Ensure indices are within valid range\n",
    "\n",
    "    # Calculate weights for linear interpolation\n",
    "    t_k = k / T\n",
    "    t_k1 = (k + 1) / T\n",
    "    delta_t = t_k1 - t_k\n",
    "    delta_t[delta_t == 0] = 1e-10  # Avoid division by zero\n",
    "\n",
    "    w_k1 = (beta_t - t_k) / delta_t\n",
    "    w_k = 1 - w_k1\n",
    "\n",
    "    # Reshape weights for broadcasting\n",
    "    weight_shape = (time_dim,) + (1,) * (mass_distributions.ndim - 1)\n",
    "    w_k = w_k.reshape(weight_shape)\n",
    "    w_k1 = w_k1.reshape(weight_shape)\n",
    "\n",
    "    # Interpolate mass distributions\n",
    "    mass_k = mass_distributions[k]\n",
    "    mass_k1 = mass_distributions[k + 1]\n",
    "\n",
    "    mass_beta_t = w_k * mass_k + w_k1 * mass_k1\n",
    "    \n",
    "    # Normalize for each time step\n",
    "    mass_beta_t = (mass_beta_t / np.sum(mass_beta_t, axis=tuple(range(1, mass_beta_t.ndim))).reshape(time_dim, 1)) * np.prod(cs[1:]) / np.prod(ll[1:])\n",
    "\n",
    "    return mass_beta_t"
   ]
  },
  {
   "cell_type": "markdown",
   "metadata": {},
   "source": [
    "# Experiment: Interpolation of mixture of gaussians"
   ]
  },
  {
   "cell_type": "markdown",
   "metadata": {},
   "source": [
    "Here, we compare our algorithm and the projected geodesic using the mixture of Gaussians."
   ]
  },
  {
   "cell_type": "code",
   "execution_count": 47,
   "metadata": {},
   "outputs": [],
   "source": [
    "def generate_gaussian_mixture(num_gaussians, interval_length, grid_size, sigma=1.0):\n",
    "    \"\"\"\n",
    "    Generates a mixture of Gaussian distributions on a 1D grid.\n",
    "\n",
    "    Parameters:\n",
    "    - num_gaussians (int): Number of Gaussian components in the mixture.\n",
    "    - interval_length (float): Length of the interval [0, L] over which the grid is defined.\n",
    "    - grid_size (int): Number of points in the grid (N).\n",
    "\n",
    "    Returns:\n",
    "    - x (np.ndarray): 1D array of grid points.\n",
    "    - p (np.ndarray): 1D array representing the probability distribution on the grid.\n",
    "    \"\"\"\n",
    "    # Create the centered grid points: x = (i + 0.5) / N * L for i = 0, ..., N-1\n",
    "    indices = np.arange(grid_size)\n",
    "    x = (indices + 0.5) / grid_size * interval_length\n",
    "\n",
    "    # Initialize the probability distribution to zero\n",
    "    p = np.zeros_like(x)\n",
    "\n",
    "    # Generate random means and weights for each Gaussian\n",
    "    means = np.random.uniform(0, interval_length, num_gaussians)\n",
    "    weights = np.random.uniform(0, 1, num_gaussians)\n",
    "\n",
    "    # Compute each Gaussian component and add it to the mixture\n",
    "    for mu, w in zip(means, weights):\n",
    "        # Gaussian with mean mu and variance 1\n",
    "        gaussian = w * np.exp(-0.5 * ((x - mu) ** 2)/(sigma ** 2))\n",
    "        p += gaussian\n",
    "\n",
    "    # Normalize the mixture to form a probability distribution\n",
    "    p /= np.sum(p)\n",
    "\n",
    "    return x, p\n"
   ]
  },
  {
   "cell_type": "code",
   "execution_count": 53,
   "metadata": {},
   "outputs": [
    {
     "data": {
      "image/png": "[encoded data removed]",
      "text/plain": [
       "<Figure size 1200x300 with 1 Axes>"
      ]
     },
     "metadata": {},
     "output_type": "display_data"
    },
    {
     "name": "stdout",
     "output_type": "stream",
     "text": [
      "Computing a geodesic for optimal transport with source...\n",
      "Progress: 99%\n",
      "Done.\n",
      "WFR: 0.7308329449985081\n",
      "Computing a geodesic for optimal transport with source and constraint...\n",
      "Progress: 99%\n",
      "Done.\n"
     ]
    },
    {
     "data": {
      "application/vnd.jupyter.widget-view+json": {
       "model_id": "3c905f8e863f40b6a72f17a80a0272ab",
       "version_major": 2,
       "version_minor": 0
      },
      "text/plain": [
       "interactive(children=(IntSlider(value=0, description='t', max=15), Output()), _dom_classes=('widget-interact',…"
      ]
     },
     "metadata": {},
     "output_type": "display_data"
    },
    {
     "data": {
      "text/plain": [
       "<function __main__.<lambda>(t)>"
      ]
     },
     "execution_count": 53,
     "metadata": {},
     "output_type": "execute_result"
    }
   ],
   "source": [
    "# Define the initial and the terminal distributions\n",
    "K = 256\n",
    "X = np.linspace(0, 1, K)  # Discretization of the time-space domain\n",
    "_, rho_0 = generate_gaussian_mixture(3, 1.0, K, sigma=0.01)\n",
    "_, rho_1 = generate_gaussian_mixture(5, 1.0, K, sigma=0.01)\n",
    "\n",
    "rho_0 = rho_0 * 256 * 5 # Multiplier to make sure it is an unbalanced problem\n",
    "rho_1 = rho_1 * 256 * 3\n",
    "\n",
    "plt.figure(figsize=(12, 3))\n",
    "plt.ylim(-25, 25)\n",
    "plt.title(\"The initial density (gray) and the final density (blue)\")\n",
    "plt.fill_between(X, rho_0/5, color=\"k\", alpha=0.2)  # Use fill_between for similar effect to fill in Julia\n",
    "plt.fill_between(X, rho_1/3, color=\"b\", alpha=0.2)\n",
    "plt.show()\n",
    "\n",
    "T = 15\n",
    "z, lists = computeGeodesic(rho_0, rho_1, T, (1.0, 1.0))\n",
    "\n",
    "WFR = np.sqrt(z.V.energy(1.0, 2.0, 2.0))\n",
    "print(f\"WFR: {WFR}\")\n",
    "SHK = WFR_to_SHK(WFR)\n",
    "r0 = 1.0\n",
    "r1 = 1.0\n",
    "\n",
    "# Reparametrize the mass distributions\n",
    "reparam_D = reparametrize_mass_distributions(z.U.D[0], SHK, r0, r1, (1, K), (1, 1))\n",
    "\n",
    "# Calculate the constrained geodesic\n",
    "z, lists = computeGeodesic(rho_0/5, rho_1/3, T, (1.0, 1.0), np.ones((T, K)), np.ones(T))\n",
    "\n",
    "def plot_1D(t, x, reparam_D, X, ylim=[-2, 2], title=\"\"):\n",
    "    plt.figure(figsize=[8, 4])  # Adjusted the height for two subplots\n",
    "\n",
    "    # First subplot for x.U.D\n",
    "    plt.subplot(2, 1, 1)\n",
    "    plt.fill_between(X, x.U.D[0][t, :], color=\"r\", alpha=0.7, label=r'$\\rho_{t}$')\n",
    "    plt.title(f'{title} - Constrained UOT')\n",
    "    plt.axis([0, 1, ylim[0], ylim[1]])\n",
    "    plt.legend()\n",
    "\n",
    "    # Second subplot for reparam_D\n",
    "    plt.subplot(2, 1, 2)\n",
    "    plt.fill_between(X, reparam_D[t, :], color=\"g\", alpha=0.7, label=r'$\\rho_{\\beta(t)}$')\n",
    "    plt.title(f'{title} - Projected unconstrained UOT')\n",
    "    plt.axis([0, 1, ylim[0], ylim[1]])\n",
    "    plt.legend()\n",
    "\n",
    "    # Display the plot\n",
    "    plt.tight_layout()\n",
    "    plt.show()\n",
    "\n",
    "\n",
    "interact(lambda t: plot_1D(t, z, reparam_D, X, ylim=[-25, 25], title = 'Comparison'), t=widgets.IntSlider(min=0, max=T, step=1, value=0))"
   ]
  }
 ],
 "metadata": {
  "kernelspec": {
   "display_name": ".venv",
   "language": "python",
   "name": "python3"
  },
  "language_info": {
   "codemirror_mode": {
    "name": "ipython",
    "version": 3
   },
   "file_extension": ".py",
   "mimetype": "text/x-python",
   "name": "python",
   "nbconvert_exporter": "python",
   "pygments_lexer": "ipython3",
   "version": "3.10.11"
  }
 },
 "nbformat": 4,
 "nbformat_minor": 2
}
